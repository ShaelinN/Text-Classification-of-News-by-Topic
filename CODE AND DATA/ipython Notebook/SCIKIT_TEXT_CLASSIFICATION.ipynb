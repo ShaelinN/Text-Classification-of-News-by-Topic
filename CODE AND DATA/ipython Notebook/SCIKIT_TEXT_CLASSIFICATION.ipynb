{
  "nbformat": 4,
  "nbformat_minor": 0,
  "metadata": {
    "colab": {
      "name": "SCIKIT_TEXT_CLASSIFICATION.ipynb",
      "provenance": [],
      "collapsed_sections": [],
      "toc_visible": true
    },
    "kernelspec": {
      "name": "python3",
      "display_name": "Python 3"
    }
  },
  "cells": [
    {
      "cell_type": "markdown",
      "metadata": {
        "id": "FEzSuytZOsWp",
        "colab_type": "text"
      },
      "source": [
        "# SCIKIT LEARN CLASSIFIERS\n",
        "\n",
        "this notebook builds classification pipelines through SKLearn\n",
        "\n",
        "It takes data that has been preprocessed already\n"
      ]
    },
    {
      "cell_type": "markdown",
      "metadata": {
        "id": "hML3UMivQeQb",
        "colab_type": "text"
      },
      "source": [
        "## mount google drive to be able to access data"
      ]
    },
    {
      "cell_type": "code",
      "metadata": {
        "id": "huixXXqpQV58",
        "colab_type": "code",
        "colab": {
          "base_uri": "https://localhost:8080/",
          "height": 122
        },
        "outputId": "8edd90e1-5fc2-4711-e55b-26dcb56ac89e"
      },
      "source": [
        "from google.colab import drive\n",
        "drive.mount('/content/drive')"
      ],
      "execution_count": 2,
      "outputs": [
        {
          "output_type": "stream",
          "text": [
            "Go to this URL in a browser: https://accounts.google.com/o/oauth2/auth?client_id=947318989803-6bn6qk8qdgf4n4g3pfee6491hc0brc4i.apps.googleusercontent.com&redirect_uri=urn%3aietf%3awg%3aoauth%3a2.0%3aoob&scope=email%20https%3a%2f%2fwww.googleapis.com%2fauth%2fdocs.test%20https%3a%2f%2fwww.googleapis.com%2fauth%2fdrive%20https%3a%2f%2fwww.googleapis.com%2fauth%2fdrive.photos.readonly%20https%3a%2f%2fwww.googleapis.com%2fauth%2fpeopleapi.readonly&response_type=code\n",
            "\n",
            "Enter your authorization code:\n",
            "··········\n",
            "Mounted at /content/drive\n"
          ],
          "name": "stdout"
        }
      ]
    },
    {
      "cell_type": "markdown",
      "metadata": {
        "id": "W7sUSdyzPKqE",
        "colab_type": "text"
      },
      "source": [
        "The data stored may be in a different location depending on user.\n",
        "\n",
        "During the experiment they resided on my gogle drive. \n",
        "\n",
        "The following code segment stores the file paths as strings.\n",
        "\n",
        "They must be manually set if data has moved to a different location."
      ]
    },
    {
      "cell_type": "code",
      "metadata": {
        "id": "uR7hNbDnOr5W",
        "colab_type": "code",
        "colab": {}
      },
      "source": [
        "#7:3\n",
        "stem_train_70_csv = \"/content/drive/My Drive/NLP_Project/DATA/TRAIN_TEST/TEXTUAL/equal_stem_TRAIN_70.csv\"\n",
        "stem_test_30_csv  = \"/content/drive/My Drive/NLP_Project/DATA/TRAIN_TEST/TEXTUAL/equal_stem_TEST_30.csv\"\n",
        "\n",
        "lemma_train_70_csv = \"/content/drive/My Drive/NLP_Project/DATA/TRAIN_TEST/TEXTUAL/equal_lemma_TRAIN_70.csv\"\n",
        "lemma_test_30_csv  = \"/content/drive/My Drive/NLP_Project/DATA/TRAIN_TEST/TEXTUAL/equal_lemma_TEST_30.csv\"\n",
        "\n",
        "# 8:2\n",
        "stem_train_80_csv = \"/content/drive/My Drive/NLP_Project/DATA/TRAIN_TEST/TEXTUAL/equal_stem_TRAIN_80.csv\"\n",
        "stem_test_20_csv  = \"/content/drive/My Drive/NLP_Project/DATA/TRAIN_TEST/TEXTUAL/equal_stem_TEST_20.csv\"\n",
        "\n",
        "lemma_train_80_csv = \"/content/drive/My Drive/NLP_Project/DATA/TRAIN_TEST/TEXTUAL/equal_lemma_TRAIN_80.csv\"\n",
        "lemma_test_20_csv  = \"/content/drive/My Drive/NLP_Project/DATA/TRAIN_TEST/TEXTUAL/equal_lemma_TEST_20.csv\"\n",
        "\n",
        "# 6:4\n",
        "stem_train_60_csv = \"/content/drive/My Drive/NLP_Project/DATA/TRAIN_TEST/TEXTUAL/equal_stem_TRAIN_60.csv\"\n",
        "stem_test_40_csv  = \"/content/drive/My Drive/NLP_Project/DATA/TRAIN_TEST/TEXTUAL/equal_stem_TEST_40.csv\"\n",
        "\n",
        "lemma_train_60_csv = \"/content/drive/My Drive/NLP_Project/DATA/TRAIN_TEST/TEXTUAL/equal_lemma_TRAIN_60.csv\"\n",
        "lemma_test_40_csv  = \"/content/drive/My Drive/NLP_Project/DATA/TRAIN_TEST/TEXTUAL/equal_lemma_TEST_40.csv\"\n",
        "\n",
        "\n",
        "#additional\n",
        "# category list \n",
        "categories = ['business','entertainment','politics','sport','tech']"
      ],
      "execution_count": 3,
      "outputs": []
    },
    {
      "cell_type": "markdown",
      "metadata": {
        "id": "lKn31IarTG5z",
        "colab_type": "text"
      },
      "source": [
        "## General imports\n"
      ]
    },
    {
      "cell_type": "code",
      "metadata": {
        "id": "ivgOD5VKRPSi",
        "colab_type": "code",
        "colab": {
          "base_uri": "https://localhost:8080/",
          "height": 51
        },
        "outputId": "d3215775-6005-425e-d2da-a74e2c53b10e"
      },
      "source": [
        "#data handling\n",
        "import numpy as np\n",
        "import pandas as pd\n",
        "\n",
        "#text features\n",
        "from sklearn.feature_extraction.text import TfidfVectorizer,CountVectorizer\n",
        "# pipeline\n",
        "from sklearn.pipeline import make_pipeline\n",
        "\n",
        "#metrics\n",
        "from sklearn.metrics import accuracy_score,precision_score,confusion_matrix\n",
        "\n",
        "#visualisation\n",
        "import matplotlib.pyplot as plt\n",
        "import seaborn;seaborn.set()"
      ],
      "execution_count": 4,
      "outputs": [
        {
          "output_type": "stream",
          "text": [
            "/usr/local/lib/python3.6/dist-packages/statsmodels/tools/_testing.py:19: FutureWarning: pandas.util.testing is deprecated. Use the functions in the public API at pandas.testing instead.\n",
            "  import pandas.util.testing as tm\n"
          ],
          "name": "stderr"
        }
      ]
    },
    {
      "cell_type": "markdown",
      "metadata": {
        "id": "L6F0zqIwTkt8",
        "colab_type": "text"
      },
      "source": [
        "## Imports for all the classifiers that are used in this notebook"
      ]
    },
    {
      "cell_type": "code",
      "metadata": {
        "id": "Z6sZsKbJThEg",
        "colab_type": "code",
        "colab": {}
      },
      "source": [
        "#classifiers\n",
        "from sklearn.svm  import SVC\n",
        "from sklearn.neighbors import KNeighborsClassifier\n",
        "from sklearn.ensemble import RandomForestClassifier\n",
        "from sklearn.naive_bayes import MultinomialNB,ComplementNB\n",
        "from sklearn.linear_model import LogisticRegression\n",
        "from sklearn.neural_network import MLPClassifier\n",
        "\n"
      ],
      "execution_count": 6,
      "outputs": []
    },
    {
      "cell_type": "markdown",
      "metadata": {
        "id": "UlekU0ZZIqPV",
        "colab_type": "text"
      },
      "source": [
        "##EXPERIMENT STAGE 1"
      ]
    },
    {
      "cell_type": "markdown",
      "metadata": {
        "id": "rS3Yfup9VACC",
        "colab_type": "text"
      },
      "source": [
        "\n",
        "##Dataset Choice\n",
        "read the csv files into pandas DataFrames\n",
        "\n",
        "several options available. simply un-comment the dataset to be used\n"
      ]
    },
    {
      "cell_type": "code",
      "metadata": {
        "id": "y0hPeuV9UeJo",
        "colab_type": "code",
        "colab": {
          "base_uri": "https://localhost:8080/",
          "height": 34
        },
        "outputId": "2ae36ba7-faa6-4dc6-92ec-223d5c52aac4"
      },
      "source": [
        "#PICK ONE:\n",
        "    # 6:4\n",
        "'''\n",
        "train_csv = stem_train_60_csv\n",
        "test_csv = stem_test_40_csv \n",
        "'''\n",
        "'''\n",
        "train_csv = lemma_train_60_csv\n",
        "test_csv = lemma_test_40_csv \n",
        "'''\n",
        "    #7:3\n",
        "'''\n",
        "train_csv = stem_train_70_csv\n",
        "test_csv = stem_test_30_csv\n",
        "'''\n",
        "'''\n",
        "train_csv = lemma_train_70_csv\n",
        "test_csv = lemma_test_30_csv\n",
        "'''\n",
        "    # 8:2\n",
        "'''\n",
        "train_csv = stem_train_80_csv\n",
        "test_csv = stem_test_20_csv \n",
        "'''\n",
        "'''\n",
        "train_csv = lemma_train_80_csv\n",
        "test_csv = lemma_test_20_csv\n",
        "'''\n",
        "\n",
        "\n",
        "\n",
        "\n",
        "\n",
        "#read to dataframe\n",
        "train_df  = pd.read_csv(train_csv)\n",
        "test_df   = pd.read_csv(test_csv)\n",
        "\n",
        "assert isinstance(train_df,pd.DataFrame)\n",
        "\n",
        "#Check that no nulls are present as these will break the model further down the line\n",
        "train_df['line'].isnull().sum()"
      ],
      "execution_count": null,
      "outputs": [
        {
          "output_type": "execute_result",
          "data": {
            "text/plain": [
              "0"
            ]
          },
          "metadata": {
            "tags": []
          },
          "execution_count": 10
        }
      ]
    },
    {
      "cell_type": "markdown",
      "metadata": {
        "id": "Rq_biXTcZ1am",
        "colab_type": "text"
      },
      "source": [
        "##Model Definition\n",
        "\n",
        "several options. simply un-comment one model to use "
      ]
    },
    {
      "cell_type": "code",
      "metadata": {
        "id": "tr9uiVu3VSYl",
        "colab_type": "code",
        "colab": {}
      },
      "source": [
        "#PICK ONE\n",
        "\n",
        "#model = make_pipeline(CountVectorizer(),MultinomialNB())\n",
        "model = make_pipeline(CountVectorizer(),ComplementNB())\n",
        "#model = make_pipeline(TfidfVectorizer(),MultinomialNB())\n",
        "#model = make_pipeline(TfidfVectorizer(),ComplementNB())\n",
        "\n",
        "\n",
        "\n",
        "#model = make_pipeline(CountVectorizer(),KNeighborsClassifier(n_neighbors=187))\n",
        "#model = make_pipeline(CountVectorizer(),LogisticRegression(max_iter=500, multi_class='multinomial'))\n",
        "#model = make_pipeline(CountVectorizer(),LogisticRegression(max_iter=500, multi_class='ovr'))\n",
        "#model = make_pipeline(TfidfVectorizer(),KNeighborsClassifier(n_neighbors=187))\n",
        "#model = make_pipeline(TfidfVectorizer(),LogisticRegression(max_iter=500, multi_class='multinomial'))\n",
        "#model = make_pipeline(TfidfVectorizer(),LogisticRegression(max_iter=500, multi_class='ovr'))\n",
        "\n",
        "\n",
        "\n",
        "#model = make_pipeline(CountVectorizer(),RandomForestClassifier())\n",
        "#model = make_pipeline(TfidfVectorizer(),RandomForestClassifier())\n",
        "\n",
        "\n",
        "\n",
        "#model = make_pipeline(CountVectorizer(), MLPClassifier())\n",
        "#model = make_pipeline(TfidfVectorizer(), MLPClassifier())\n",
        "\n",
        "\n",
        "\n",
        "#model = make_pipeline(CountVectorizer(), SVC())\n",
        "#model = make_pipeline(TfidfVectorizer(), SVC())"
      ],
      "execution_count": null,
      "outputs": []
    },
    {
      "cell_type": "markdown",
      "metadata": {
        "id": "x1iBPQ2TiVC-",
        "colab_type": "text"
      },
      "source": [
        "##Training\n",
        "train the chosen model on the chosen dataset"
      ]
    },
    {
      "cell_type": "code",
      "metadata": {
        "id": "Z9_V3izQiM6D",
        "colab_type": "code",
        "colab": {}
      },
      "source": [
        "model.fit(train_df[\"line\"], train_df[\"category_name\"])"
      ],
      "execution_count": null,
      "outputs": []
    },
    {
      "cell_type": "markdown",
      "metadata": {
        "id": "mWBk4QndZ33D",
        "colab_type": "text"
      },
      "source": [
        "##Testing and Graphical Output\n",
        "\n",
        "tests the model and outputs the accuracy rate, along with a matplotlib/seaborn formatting of the confusion matrix"
      ]
    },
    {
      "cell_type": "code",
      "metadata": {
        "id": "lrZYEy8J6BgF",
        "colab_type": "code",
        "colab": {}
      },
      "source": [
        "predictions =model.predict(test_df[\"line\"])\n",
        "\n",
        "cnf_mtx = confusion_matrix(test_df[\"category_name\"],predictions)\n",
        "ac_score = accuracy_score(test_df[\"category_name\"],predictions)\n",
        "\n",
        "print(\"accuracy: \",ac_score)\n",
        "heatmap = seaborn.heatmap(cnf_mtx.T,annot=True,fmt='d', cbar=False,xticklabels=categories, yticklabels=categories)\n",
        "plt.xlabel('true label')\n",
        "plt.ylabel('predicted label')"
      ],
      "execution_count": null,
      "outputs": []
    },
    {
      "cell_type": "markdown",
      "metadata": {
        "id": "1ecC9iV4Ixpt",
        "colab_type": "text"
      },
      "source": [
        "#EXPERIMENT STAGE 2"
      ]
    },
    {
      "cell_type": "markdown",
      "metadata": {
        "id": "Ht55H6RNKC4F",
        "colab_type": "text"
      },
      "source": [
        "## read the csv file of the optimal processed version of the dataset into pandas DataFrame"
      ]
    },
    {
      "cell_type": "code",
      "metadata": {
        "id": "WtbANDYLKCTa",
        "colab_type": "code",
        "colab": {}
      },
      "source": [
        "train_df  = pd.read_csv(lemma_train_80_csv)\n",
        "test_df   = pd.read_csv(lemma_test_20_csv)\n"
      ],
      "execution_count": null,
      "outputs": []
    },
    {
      "cell_type": "markdown",
      "metadata": {
        "id": "9KB3eigvJBEE",
        "colab_type": "text"
      },
      "source": [
        "##Model Definition\n",
        "\n",
        "several options. simply un-comment one model to use "
      ]
    },
    {
      "cell_type": "code",
      "metadata": {
        "id": "DOnwPnPEJNvO",
        "colab_type": "code",
        "colab": {}
      },
      "source": [
        "#model = make_pipeline(CountVectorizer(ngram_range=(1,1)),ComplementNB())\n",
        "#model = make_pipeline(CountVectorizer(ngram_range=(1,2)),ComplementNB())\n",
        "#model = make_pipeline(CountVectorizer(ngram_range=(1,3)),ComplementNB())\n",
        "#model = make_pipeline(CountVectorizer(ngram_range=(2,2)),ComplementNB())\n",
        "#model = make_pipeline(CountVectorizer(ngram_range=(2,3)),ComplementNB())\n",
        "\n",
        "#model = make_pipeline(TfidfVectorizer(ngram_range=(1,1)),SVC())\n",
        "#model = make_pipeline(TfidfVectorizer(ngram_range=(1,3)),SVC())\n",
        "#model = make_pipeline(TfidfVectorizer(ngram_range=(1,3)),SVC())\n",
        "model = make_pipeline(TfidfVectorizer(ngram_range=(2,2)),SVC())\n",
        "#model = make_pipeline(TfidfVectorizer(ngram_range=(2,3)),SVC())\n",
        "\n",
        "#model = make_pipeline(TfidfVectorizer(ngram_range=(1,1)),ComplementNB())\n",
        "#model = make_pipeline(TfidfVectorizer(ngram_range=(1,2)),ComplementNB())\n",
        "#model = make_pipeline(TfidfVectorizer(ngram_range=(1,3)),ComplementNB())\n",
        "#model = make_pipeline(TfidfVectorizer(ngram_range=(2,2)),ComplementNB())\n",
        "#model = make_pipeline(TfidfVectorizer(ngram_range=(2,3)),ComplementNB())\n",
        "\n"
      ],
      "execution_count": null,
      "outputs": []
    },
    {
      "cell_type": "markdown",
      "metadata": {
        "id": "X0-jfrCnj6XS",
        "colab_type": "text"
      },
      "source": [
        "##Training\n"
      ]
    },
    {
      "cell_type": "code",
      "metadata": {
        "id": "zzpQW8Lzj5oO",
        "colab_type": "code",
        "colab": {}
      },
      "source": [
        "model.fit(train_df[\"line\"], train_df[\"category_name\"])"
      ],
      "execution_count": null,
      "outputs": []
    },
    {
      "cell_type": "markdown",
      "metadata": {
        "id": "lXlvTnjjJGP5",
        "colab_type": "text"
      },
      "source": [
        "##Testing and Graphical Output\n",
        "\n",
        "tests the model and outputs the accuracy rate, along with a matplotlib/seaborn formatting of the confusion matrix"
      ]
    },
    {
      "cell_type": "code",
      "metadata": {
        "id": "Kc8KPAVSKc1M",
        "colab_type": "code",
        "colab": {}
      },
      "source": [
        "predictions =model.predict(test_df[\"line\"])\n",
        "\n",
        "cnf_mtx = confusion_matrix(test_df[\"category_name\"],predictions)\n",
        "ac_score = accuracy_score(test_df[\"category_name\"],predictions)\n",
        "\n",
        "print(\"accuracy: \",ac_score)\n",
        "htmp = seaborn.heatmap(cnf_mtx.T,annot=True,fmt='d', cbar=False,xticklabels=categories, yticklabels=categories)\n",
        "plt.xlabel('true label')\n",
        "plt.ylabel('predicted label')"
      ],
      "execution_count": null,
      "outputs": []
    },
    {
      "cell_type": "markdown",
      "metadata": {
        "id": "fxdzPb0y47wP",
        "colab_type": "text"
      },
      "source": [
        "#FIXED LEMMATIZER\n",
        "the original lemmatization step in preprocessing was flawed. It has been fixed and a new dataset was produced to mirror the dataset of the most accurate lemmatized model. A new model is defined here that does exactly what the most accurate lemmatized model with the flawed lemmatized dataset did, but with a fixed lemmatized dataset"
      ]
    },
    {
      "cell_type": "markdown",
      "metadata": {
        "id": "AdZx6dE_6i6H",
        "colab_type": "text"
      },
      "source": [
        "##Define dataframes for new datasets"
      ]
    },
    {
      "cell_type": "code",
      "metadata": {
        "id": "AwhzSpKE5tbW",
        "colab_type": "code",
        "colab": {}
      },
      "source": [
        "fixed_lemma_train_80_csv = \"/content/drive/My Drive/NLP_Project/DATA/TRAIN_TEST/TEXTUAL/equal_lemma_fixed_TRAIN_80.csv\"\n",
        "fixed_lemma_test_20_csv  = \"/content/drive/My Drive/NLP_Project/DATA/TRAIN_TEST/TEXTUAL/equal_lemma_fixed_TEST_20.csv\"\n",
        "train_df  = pd.read_csv(fixed_lemma_train_80_csv)\n",
        "test_df  = pd.read_csv(fixed_lemma_test_20_csv)\n",
        "\n",
        "\n"
      ],
      "execution_count": 7,
      "outputs": []
    },
    {
      "cell_type": "markdown",
      "metadata": {
        "id": "Q1ietHNt6pZe",
        "colab_type": "text"
      },
      "source": [
        "##train new model"
      ]
    },
    {
      "cell_type": "code",
      "metadata": {
        "id": "Alvg7xwC6plj",
        "colab_type": "code",
        "colab": {}
      },
      "source": [
        "#PICK ONE:\n",
        "model = make_pipeline(CountVectorizer(ngram_range=(1,3)),ComplementNB())\n",
        "#model = make_pipeline(TfidfVectorizer(ngram_range=(1,1)),SVC())\n",
        "#model = make_pipeline(TfidfVectorizer(ngram_range=(1,2)),ComplementNB())\n",
        "\n",
        "\n",
        "model.fit(train_df[\"line\"], train_df[\"category_name\"])"
      ],
      "execution_count": null,
      "outputs": []
    },
    {
      "cell_type": "markdown",
      "metadata": {
        "id": "bj788csz6tg6",
        "colab_type": "text"
      },
      "source": [
        "Test and output results"
      ]
    },
    {
      "cell_type": "code",
      "metadata": {
        "id": "fWE9JNJc6tqn",
        "colab_type": "code",
        "colab": {}
      },
      "source": [
        "predictions =model.predict(test_df[\"line\"])\n",
        "\n",
        "cnf_mtx = confusion_matrix(test_df[\"category_name\"],predictions)\n",
        "ac_score = accuracy_score(test_df[\"category_name\"],predictions)\n",
        "\n",
        "print(\"accuracy: \",ac_score)\n",
        "htmp = seaborn.heatmap(cnf_mtx.T,annot=True,fmt='d', cbar=False,xticklabels=categories, yticklabels=categories)\n",
        "plt.xlabel('true label')\n",
        "plt.ylabel('predicted label')"
      ],
      "execution_count": null,
      "outputs": []
    },
    {
      "cell_type": "markdown",
      "metadata": {
        "id": "KIfonxqvKgZJ",
        "colab_type": "text"
      },
      "source": [
        "#CLASSIFICATION BASED ON THE MOST ACCURATE MODEL\n",
        "* ## uses the ComplementNB + CountVectorizer pipeline model\n",
        "\n",
        "* ## uses ngram range to (1,3)\n",
        "\n",
        "* ## uses the dataset that is lemmatized and 80% train\n",
        "\n",
        "\n",
        "###The variable model should be defined and trained as such before proceeding"
      ]
    },
    {
      "cell_type": "code",
      "metadata": {
        "id": "y7GFVglFZwZq",
        "colab_type": "code",
        "colab": {}
      },
      "source": [
        "model = make_pipeline(CountVectorizer(ngram_range=(1,3)),ComplementNB())\n",
        "\n",
        "\n",
        "#pick one:\n",
        "train_df  = pd.read_csv(fixed_lemma_train_80_csv)\n",
        "#train_df  = pd.read_csv(lemma_train_80_csv)\n",
        "\n",
        "\n",
        "\n",
        "model.fit(train_df[\"line\"], train_df[\"category_name\"])"
      ],
      "execution_count": null,
      "outputs": []
    },
    {
      "cell_type": "markdown",
      "metadata": {
        "id": "C2XloCt4Linh",
        "colab_type": "text"
      },
      "source": [
        "##Make path of modules visible to colab\n",
        "a copy of the .py modules used in preprocessing were placed into the directory \"/content/drive/My Drive/NLP_Project/CODE\" so that they could be accessed in colab \n",
        "\n",
        "to replicate, place both the PREPROCESSING.py and LEMMATIZATION.py modules in the same directory and append said directory to sys.path\n"
      ]
    },
    {
      "cell_type": "code",
      "metadata": {
        "id": "VMJEelaZKv1i",
        "colab_type": "code",
        "colab": {}
      },
      "source": [
        "import sys\n",
        "sys.path.append('/content/drive/My Drive/NLP_Project/CODE')\n",
        "\n",
        "sys.path"
      ],
      "execution_count": null,
      "outputs": []
    },
    {
      "cell_type": "markdown",
      "metadata": {
        "id": "3w3ypak3Lz2V",
        "colab_type": "text"
      },
      "source": [
        "##Imports of modules for preprocessing\n",
        "\n",
        "this includes all nltk downloads that need to occur to allow lemmatization and tokenization"
      ]
    },
    {
      "cell_type": "code",
      "metadata": {
        "id": "mYYLq1eUL5ic",
        "colab_type": "code",
        "colab": {}
      },
      "source": [
        "#downloads\n",
        "import nltk\n",
        "nltk.download(\"punkt\")\n",
        "nltk.download('stopwords')\n",
        "nltk.download('averaged_perceptron_tagger')\n",
        "nltk.download('wordnet')"
      ],
      "execution_count": null,
      "outputs": []
    },
    {
      "cell_type": "code",
      "metadata": {
        "id": "KqXs6tgPaLie",
        "colab_type": "code",
        "colab": {}
      },
      "source": [
        "from nltk.tokenize import sent_tokenize\n",
        "\n",
        "from PREPROCESSING import simplify\n",
        "\n",
        "from collections import Counter \n"
      ],
      "execution_count": 29,
      "outputs": []
    },
    {
      "cell_type": "markdown",
      "metadata": {
        "id": "6tCkG9gYMANH",
        "colab_type": "text"
      },
      "source": [
        "##The actual function\n",
        "\n",
        "uses lemmatizing since it is true to the most accurate model"
      ]
    },
    {
      "cell_type": "code",
      "metadata": {
        "id": "gDC3FhEILfxS",
        "colab_type": "code",
        "colab": {}
      },
      "source": [
        "def classify(article):\n",
        "  #break into sentences\n",
        "  sentences = sent_tokenize(article)\n",
        "\n",
        "  #simplify\n",
        "  for sent in sentences:\n",
        "    sent = simplify(sent,lemma_or_stem='lemma')\n",
        "  #make a prediction for every sentence\n",
        "  predictions = model.predict(sentences)\n",
        "\n",
        "  final = Counter(predictions).most_common(1)[0][0] \n",
        "  \n",
        "  return {\"by_sentence\":predictions,\"final_prediction\":final}\n"
      ],
      "execution_count": 30,
      "outputs": []
    },
    {
      "cell_type": "markdown",
      "metadata": {
        "id": "5WHWrzijQzYb",
        "colab_type": "text"
      },
      "source": [
        "#testing data to try out the function with\n",
        "\n",
        "these are strings containing full articles\n",
        "\n",
        "5 are BBC articles, 5 are from another 5 publications\n",
        "\n",
        "\n",
        "they are used to demonstrate the classify method"
      ]
    },
    {
      "cell_type": "code",
      "metadata": {
        "id": "yJ3zZMqnhiG-",
        "colab_type": "code",
        "colab": {}
      },
      "source": [
        "bbc_business=\"\"\"\n",
        "    The Governor of the Bank of England has backed the government's decision to end its furlough scheme in October. \n",
        "    Andrew Bailey told the BBC it was important that policymakers helped workers \"move forward\" and not keep them in unproductive jobs. \n",
        "    He said coronavirus would inevitably mean that some jobs became redundant. \n",
        "    The Bank also predicted the economic slump caused by Covid-19 will be less severe than expected, but warned the recovery will also take longer. \n",
        "    More than nine million jobs have been furloughed under the government's job retention scheme, but the Bank expects most people to go back to work as the economy recovers. \n",
        "    Trade unions have urged Chancellor Rishi Sunak to extend the scheme, which pays a share of workers' wages, to avoid mass job losses. \n",
        "    However, Mr Bailey said it was right to focus on helping people to find new jobs. \n",
        "    \"It's been a very successful scheme, but he's right to say we have to look forward now,\" he said.\n",
        "    \"I don't think we should be locking the economy down in a state that it pre-existed in.\n",
        "    The Bank said a faster easing of lockdown measures and a \"more rapid\" pick-up in consumer spending had helped the economy rebound faster than it had assumed in May.\n",
        "    Its latest Monetary Policy Report showed spending on clothing and household goods were back to pre-Covid levels.\n",
        "    However, the Bank warned of a \"material\" rise in unemployment this year as it held interest rates at 0.1%.\n",
        "    Mr Bailey said recent data suggested the recovery in consumer spending was gaining traction, while spending on food and energy bills remained above pre-Covid levels.\n",
        "    He said: \"We have had a strong recovery in the last few months. The pace puts the economy ahead of where we thought it would be in May.\"\n",
        "    However, Mr Bailey cautioned against reading too much into recent figures: \"We don't think the recent past is necessarily a good guide to the immediate future,\" he said.\n",
        "    The Bank said spending on leisure and entertainment, which accounts for a fifth of all consumer spending, remained subdued.\n",
        "    Business investment was also weak, which would weigh on the recovery.\n",
        "    Slower recovery\n",
        "    The Bank expects the UK economy to shrink by 9.5% this year.\n",
        "    While this would be the biggest annual decline in 100 years, it is not as steep as its initial estimate of a 14% contraction.\n",
        "    The Bank said the UK still faced its sharpest recession on record, with the outlook for growth now \"unusually uncertain\".\n",
        "    Mr Bailey said it was the \"largest quantum of uncertainty in a forecast\" that policymakers had ever published.\n",
        "    The Bank expects the UK economy to grow by 9% in 2021, and 3.5% in 2022, with the economy forecast to get back to its pre-Covid size at the end of 2021.\n",
        "    This compares with growth estimates of 15% and 3% respectively, in a scenario the Bank set out in May.\n",
        "    Unemployment is expected to almost double from the current rate of 3.9% to 7.5% by the end of the year as government-funded support schemes come to an end.\n",
        "    Average earnings are also expected to shrink for the first time since the financial crisis.\n",
        "    The Bank said more workers faced a pay cut or freeze in 2020, adding: \"In many cases, bonuses have been scaled back or withdrawn altogether for this year.\"\n",
        "    Its latest forecasts are based on the assumption that there is no second wave of the virus and that there is a smooth transition to a new EU free trade agreement at the start of 2021.\n",
        "    Meanwhile, a fall in energy prices and the temporary VAT cut for hotels, theme parks and other hospitality businesses means the cost of living is expected to barely rise this year.\n",
        "    The Bank expects inflation, as measured by the consumer prices index (CPI), to fall close to zero by the end of 2020, before gradually rising back to its target of 2%.\n",
        "    Negative rates 'under review'\n",
        "    The Monetary Policy Committee (MPC) said it would not even think about raising interest rates until there was \"clear evidence\" the recovery had taken hold.\n",
        "    Mr Bailey also signalled that policymakers were against using negative interest rates any time soon, adding that such a move may have unintended consequences.\n",
        "    It could stop the UK's already fragile banks from lending, or lead to customers withdrawing their money and holding it in cash.\n",
        "    Policymakers also noted that High Street banks would find it difficult to cut savings rates below zero.\n",
        "    \"They are part of our toolbox,\" said Mr Bailey. \"But at the moment we do not have a plan to use them.\"\n",
        "    He said the public may find the policy difficult to understand. \"There would be a lot of explaining to do on what this means, why we're doing it, and what the benefits would be.\"\n",
        "    Ruth Gregory, an economist at Capital Economics, said the Bank was likely to increase its money printing programme by a further £100bn later this year.\n",
        "    She also expects the Bank to keep interest rates at 0.1% \"or below\" for \"at least five years\".\n",
        "    Are banks passing rate cuts on?\n",
        "    Millions of households that already had a variable-rate mortgage have benefitted from recent interest rate cuts.\n",
        "    However, the Bank said borrowing had become more expensive over the past six months for first-time buyers and others moving up the property ladder, particularly for people with small deposits.\n",
        "    Banks also continued to reduce rates on savings accounts. The average instant-access savings account now pays 0.1% annual interest, compared with 0.4% in February.\n",
        "    Lenders said they were restricting credit due to the uncertain economic outlook.\n",
        "    One in six mortgages in the UK is currently subject to a payment holiday because of the pandemic.\n",
        "    Stuart Paver, the managing director of Pavers Shoes says the pandemic is the \"worst shock\" the company's suffered since it was founded by his mother in 1971.\n",
        "    The company which has always been profitable, has now lost £7m over the past five months.\n",
        "    \"We went from having 170 stores to no stores, and 1500, 1600 people on furlough\", he says.\n",
        "    \"It's about survival and how you come through and how you have a business that can continue to employ as many people as possible, so it was really batten down the hatches ..and really just sort of work hard to make sure we were secure\".\n",
        "    The company is now gradually reducing the number of furloughed workers and turnover in the stores is picking up, but Stuart Paver says it's still down 40% from last year. Normally in a recession, he'd expect to lose between 5 and 8% of his turnover.\n",
        "    Mr Paver thinks recovery for businesses like his depends on consumer confidence.\n",
        "    \"There's still a lot of people that won't venture into town.. we just need those people to become confident and come back in\".\n",
        "    \"\"\"\n",
        "\n",
        "\n",
        "bbc_entertainment = \"\"\"\n",
        "    An episode of hit US sitcom Black-ish, which was pulled by ABC over concerns that it was too anti-Trump, has become available to watch for the first time.\n",
        "    The network dropped Please, Baby, Please in 2018 because it was worried about the script's \"partisanship\", creator Kenya Barris said at the time.\n",
        "    Barris has now said he went back to ABC in the wake of the Black Lives Matter protests to ask it to reconsider.\n",
        "    \"We hope it inspires some much-needed conversation,\" Barris said.\n",
        "    \"[Conversation] not only about what we were grappling with then or how it led to where we are now, but conversations about where we want our country to go moving forward and, most importantly, how we get there together.\"\n",
        "    The Golden Globe-winning Black-ish follows the lives of an upper-middle-class African-American family led by Andre \"Dre\" Johnson, played by Anthony Anderson, and Rainbow Johnson, played by Tracee Ellis Ross.\n",
        "    It's known for tackling social issues alongside personal ones. However, Please, Baby, Please supposedly contained more anti-Trump material than the show had tackled before, at a time when ABC was courting more conservative viewers.\n",
        "    The episode sees Dre improvising a bedtime story to his young son, in which he expresses many of his concerns about the state of the US a year after Donald Trump - whom he calls \"the Shady King\" - was elected.\n",
        "    Another scene finds Dre and his eldest son arguing over the rights of NFL players to take a knee during the national anthem.\n",
        "    At the time, Barris and ABC said they had mutually agreed that the episode wasn't ready to be seen.\n",
        "    \"One of the things that has always made Black-ish so special is how it deftly examines delicate social issues in a way that simultaneously entertains and educates,\" ABC said in a statement at the time.\n",
        "    \"However, on this episode there were creative differences we were unable to resolve.\"\n",
        "    In a statement on Instagram on Monday, Barris gave his own explanation of the story and the decision's reversal.\n",
        "    'Grappling with the state of our country'\n",
        "    \"We were one year post-election and coming to the end of a year that left us, like many Americans, grappling with the state of our country and anxious about its future,\" he wrote.\n",
        "    \"Those feelings poured onto the page, becoming 22 minutes of television that I was, and still am, incredibly proud of. Please, Baby, Please didn't make it to air that season and, while much has been speculated about its contents, the episode has never been seen publicly… until now.\"\n",
        "    The episode has been made available on streaming service Hulu, which, like ABC, is owned by Disney.\n",
        "    Barris said Disney TV accommodated his request to make the episode available following the re-airing of episodes titled Juneteenth and Hope in the wake of renewed Black Lives Matter protests.\n",
        "    The dispute over Please, Baby, Please led Barris to leave ABC Studios and sign a new deal with Netflix.\n",
        "    \"\"\"\n",
        "\n",
        "\n",
        "bbc_politics = \"\"\"\n",
        "    The UK and France are working on new measures to stop migrants from crossing the English Channel, an immigration minister has said.\n",
        "    Chris Philp said French officials had agreed the crossing should be made \"unviable\" during talks in Paris.\n",
        "    He added the UK was prepared to support the plan financially, but it was too early to make commitments.\n",
        "    More than 4,000 people have successfully crossed the Channel on small boats so far this year.\n",
        "    Speaking after the talks, Mr Philp said the UK and France had expressed a \"shared commitment\" to stem a recent rise in channel crossings.\n",
        "    He added that the UK's new Clandestine Channel Threat Commander, Dan O'Mahoney, would hold further talks in France next week.\n",
        "    PM considers law change for migrant removals\n",
        "    Why are migrants crossing the English Channel?\n",
        "    What happens to migrants found in the Channel?\n",
        "    The Ministry of Defence said on Monday it had sent an RAF Atlas transport aircraft to help Border Force spot small boats trying to cross the Channel.\n",
        "    The Home Office had asked defence chiefs for help to deal with migrants making the crossing. More than 600 people have been intercepted since Thursday.\n",
        "    Mr Philp said French authorities had intercepted over a thousand people this year, but the number making the journey was \"completely unacceptable\".\n",
        "    'Working at pace'\n",
        "    He said a new \"comprehensive action plan\" would aim to make sure migrants would \"have no reason at all to come to France in the first place\".\n",
        "    \"We have worked on a joint operational plan with the objective in mind of completely cutting this route,\" he said.\n",
        "    \"We're going to be working at pace in the coming days to make that plan a reality.\"\n",
        "    Asked for details of the plan, he said he would not discuss \"operational\" matters yet, but \"a number of measures, some of them new\" were being discussed.\n",
        "    Migrants setting out to sea 20 miles east of Calais were filmed by a BBC team, as Gavin Lee reports\n",
        "    Mr Philp said the UK was hoping to take a \"fresh approach\" to the issue of migrant returns after its post-Brexit transition period, due to end in December.\n",
        "    The government has said it wants a new agreement to replace the main EU law in this area, the Dublin regulation, which the UK has to follow until then.\n",
        "    The regulation allows EU states to transfer asylum seekers to other countries in the bloc to have their applications processed.\n",
        "    Mr Philp said the law contained a \"number of constraints\" which made transferring asylum seekers \"a little bit harder than we would like.\"\n",
        "    \"\"\"\n",
        "\n",
        "\n",
        "bbc_sport = \"\"\"\n",
        "    Celtic and Aberdeen have had their next two Scottish Premiership matches postponed after their players broke lockdown rules.\n",
        "    Scotland's first minister Nicola Sturgeon demanded the cancellation after Celtic defender Boli Bolingoli flew to Spain, failed to quarantine, then played in a match.\n",
        "    Ms Sturgeon said this was a \"flagrant breach\" of the guidelines, while Celtic manager Neil Lennon described himself as \"livid\" after the \"incredibly selfish\" player went \"rogue\".\n",
        "    The previous weekend, eight Aberdeen players broke lockdown regulations by visiting a bar together.\n",
        "    Live: Celtic & Aberdeen games called off\n",
        "    'I am livid, it was a total betrayal of trust'\n",
        "    Following the first minister's intervention, it has been confirmed that Celtic's trip to St Mirren and Aberdeen's meeting with Hamilton Academical on Wednesday are both off. So, too, is the game between Celtic and Aberdeen on Saturday.\n",
        "    That comes after Aberdeen's game at St Johnstone last weekend was postponed following Scottish government intervention.\n",
        "    At her daily briefing earlier on Tuesday, Ms Sturgeon said that \"as a minimum, you should not be expecting to see Aberdeen or Celtic play in the coming week.\"\n",
        "    She added: \"Consider today the yellow card. The next time it will be the red card because you will leave us with absolutely no choice.\"\n",
        "    'It's just not acceptable'\n",
        "    Ms Sturgeon said news of Bolingoli's breach came through on Monday while national clinical director, Professor Jason Leitch, was meeting with the managers and captains of Scotland's top-flight clubs to reinforce the importance of the guidance.\n",
        "    \"This is just not acceptable,\" she added. \"Every day I stand here and ask members of the public to make huge sacrifices on how they live their lives. The vast majority are doing that and it's not easy.\n",
        "    \"We can't have privileged football players just deciding they are not going to bother. This can't go on.\"\n",
        "    The first minister said she did not want rule-abiding clubs and players, as well as fans, to be punished for the individual breaches.\n",
        "    But she indicated \"very clear penalties\" will be in place for players and clubs when rules are breached.\n",
        "    Prof Leitch said Bolingoli had travelled to a \"high-risk country\" then appeared as a substitute in Sunday's draw at Kilmarnock, which \"put both his team and the opposing team at risk of catching coronavirus\".\n",
        "    \"There has to be an implication of that in public health terms for those he was in contact with and their contact with others,\" he added.\n",
        "    The Belgian defender said he was \"guilty of an error of judgement\" and apologised, as did Celtic, who said his actions were \"beyond explanation\".\n",
        "    All players and backroom staff have since been tested twice and returned negative results.\n",
        "    As it stands, Celtic's Champions League first qualifying round match with KR next Tuesday in Glasgow is scheduled to take place as planned.\n",
        "    Eight Aberdeen players apologised on Saturday for visiting a bar at the centre of a Covid-19 outbreak.\n",
        "    Two of the players later tested positive for the virus, while six are currently self-isolating.\n",
        "    In announcing the postponements, Scottish football's Joint Response Group said they had \"offered to work on a range of measures\" to try and avert future breaches.\n",
        "    Chair Rod Petrie said it was \"deeply regrettable\" that games have had to be called off, but that it was \"unavoidable and incontestable\".\n",
        "    He said the group were \"astounded to learn of the recklessness\" shown by Bolingoli, in the wake of the \"similar disregard\" shown by the eight Aberdeen players.\n",
        "    \"Clubs and players are in no doubt that there is now no more margin for error and no more scope for further breaches,\" he added.\n",
        "    \"\"\"\n",
        "\n",
        "\n",
        "bbc_tech = \"\"\"\n",
        "    Microsoft is about to launch a games-streaming service that will let subscribers play top-end Xbox games on a mobile phone.\n",
        "    It is, in essence, a Netflix-style service for video games, which many experts think will be the future of gaming.\n",
        "    But the hefty monthly fee and the fact that it will not work on Apple's iPhones could be stumbling blocks for the experiment.\n",
        "    How do I try it?\n",
        "    The games-streaming system has been tested for months under the name Project xCloud, but is now being been rolled into the top tier of Microsoft's subscription games service, Xbox Game Pass.\n",
        "    It is set to be launched on 15 September - but Microsoft told tech site The Verge that a beta test would be launched on 11 August, with about 30 of the promised 100+ games that will come with the full service.\n",
        "    Microsoft says the beta will be in the same 22 countries the main service is coming to - including the UK.\n",
        "    Bye box: How streaming could kill the games console\n",
        "    Google reveals gaming platform Stadia\n",
        "    Gamers will need to be an Xbox Game Pass Ultimate subscriber to take part, and download the beta version of the app from the Google Play Store.\n",
        "    Players will also need an Xbox controller that connects to their phone via Bluetooth.\n",
        "    Why can't I use an iPhone?\n",
        "    Microsoft had harsh words to say about Apple when it was not allowed to bring its streaming app to the iOS App Store.\n",
        "    Apple says its rules are very strict on apps that contain other apps, or look like a store. It has said every video game included in the Xbox Game Pass should be submitted individually for review.\n",
        "    Microsoft says Apple is the only major platform to \"deny customers from cloud gaming\" and says it will keep trying. But other game-streaming businesses, like Google Stadia, have had similar problems.\n",
        "    How much does it cost?\n",
        "    Players have to subscribe to Xbox Game Pass Ultimate, the most expensive option for Xbox subscribers at £10.99 a month ($14.99 in the US).\n",
        "    For that, they get access to an ever-changing library of more than 100 games, including Xbox's latest first-party titles, that can be downloaded to a games console or PC - or streamed to a phone or tablet.\n",
        "    The Xbox Game Pass app\n",
        "    But it also includes access to online multiplayer functions, seen as essential by most Xbox owners, which costs £6.99 a month on its own.\n",
        "    Xbox is pushing users of that \"basic\" service to upgrade to the new, more expensive pass with the extra features.\n",
        "    How does it work?\n",
        "    Instead of needing a games console or powerful PC, subscribers can just pick the game they want to play without installing anything.\n",
        "    Button presses from the Xbox controller are sent to a data centre miles away, and the audio and video is sent back - all of which happens almost instantly over a fast internet connection.\n",
        "    Media captionWATCH: 'Years before game streaming is mainstream'\n",
        "    But those without a high-speed connection may run into problems - including jumpy, stuttering gameplay, or blocky graphics.\n",
        "    Even with a good connection, some tiny delays exist that can make playing fast-paced competitive shooting games much harder.\n",
        "    So I don't need an Xbox?\n",
        "    No. You can play Xbox games on a PC or an Android phone without ever buying an actual Xbox - as long as you pay for the subscription. However, the PC-only version of Game Pass does not come with the streaming feature.\n",
        "    Microsoft's latest Xbox will be launched later this year\n",
        "    Microsoft has been letting PC gamers play Xbox games for a while now. The latest Gears of War game might have been an Xbox exclusive in the past, but was available on Windows PCs this time.\n",
        "    Some game writers have speculated that Microsoft does not care whether gamers buy its new Xbox console, as long as they are playing the games.\n",
        "    Why is Microsoft doing this?\n",
        "    Subscription services are where there is big money to be made.\n",
        "    A monthly fee of £10.99 is £131.88 a year.\n",
        "    Earlier in 2020, Microsoft said it had 90 million subscribers playing on its basic Xbox Gold service - and it is probably hoping to push as many as possible into the higher bracket.\n",
        "    And many people will buy a console anyway - they are usually cheaper than building a high-end gaming PC.\n",
        "    Why does it matter?\n",
        "    Many people think cloud streaming could be the future of games, but it has always been hampered by the need for fast internet speeds and powerful technology.\n",
        "    In recent years, several companies have given it a spin: Google with Stadia, Sony with PlayStation Now, and graphics hardware-maker Nvidia with GeForce Now.\n",
        "    There is a sense that its time has come.\n",
        "    Xbox is a huge brand name in gaming, and its push to stream to mobiles - not just desktop PCs - potentially fulfils the promise of play-anywhere game streaming.\n",
        "    Its success may depend on just how well that actually works.\n",
        "    \"\"\"\n",
        "\n",
        "\n",
        "nyt_business = \"\"\"\n",
        "    Asset sales and a hot stock market have helped fuel a rebound for the beleaguered Japanese conglomerate, which runs the world’s largest tech fund.\n",
        "    Masayoshi Son, SoftBank’s chief executive,  in 2018. Mr. Son has said he has a 300-year vision for the company, which includes investing in emerging technologies like artificial intelligence.\n",
        "    TOKYO — Just four months ago, Masayoshi Son, the daring billionaire who leads the Japanese conglomerate SoftBank, looked as if he might lose it all.\n",
        "    His company had just announced one of the largest annual losses of any firm in the history of corporate Japan. And tens of billions of dollars in investments he had made in high-tech industries like ride-sharing and hospitality looked set for even more devastating losses as the coronavirus pandemic limited the movement of much of humanity.\n",
        "    But on Tuesday, SoftBank declared a seemingly miraculous turnabout: It announced that it had already swung back into the black, posting a $12 billion net profit for the three-month period that ended in June.\n",
        "    A potpourri of factors pushed SoftBank back into profitability, including aggressive asset sales, successful initial public offerings by firms in which it has invested, and stock prices for its publicly traded companies that have seemingly been divorced from the reality of a cratering global economy. Some of those companies are trading at higher levels than they were before the pandemic.\n",
        "    The whiplash change in fortune, more rocket launch than roller coaster, highlights the volatility of financial markets in the era of the coronavirus. It also shows how a company like SoftBank, which has used its $100 billion Vision Fund to become the world’s largest investor in tech companies, can find its strategies disrupted or catapulted by short-term market trends.\n",
        "    Speaking on a video chat with investors and reporters on Tuesday, a somber Mr. Son said that his company had retrenched and was preparing for a long and difficult battle with Covid-19, which he said would make it difficult to predict SoftBank’s future performance.\n",
        "    Reaching back to 16th-century Japanese history, Mr. Son said that much as the Japanese warlord Oda Nobunaga had used guns positioned behind shields to win a decisive victory in a battle to unify Japan, SoftBank was stockpiling cash to use for strategic investments as part of its fight against the pandemic.\n",
        "    With the virus still spreading, he said, “every day is like a war, and we entrepreneurs also are fighting against various challenges.”\n",
        "    “I believe that cash is actually the defense for us,” he said. He did not mention that Oda’s story did not end well: He subsequently died in an ambush.\n",
        "    Like Oda, Mr. Son sees himself as a transformational figure. He has frequently said he has a 300-year vision for his company, which he has tried to position as the leading investor in emerging technologies like artificial intelligence. His strategy has focused on making huge investments in companies, such as Uber, that he believes have the potential to transform and dominate entire industries.\n",
        "    But a series of missteps last year, including the spectacular collapse of the office-space firm WeWork, followed by the calamitous economic impact from the pandemic, forced Mr. Son to take a detour.\n",
        "    Whereas last summer Mr. Son found himself on the offensive, announcing the launch of a second, even larger, iteration of his Vision Fund, he now finds himself playing defense, saying that he has stopped seeking outside partners for the project as he builds up his cash reserves and considers a more cautious investment strategy.\n",
        "    In March, Mr. Son committed to selling off $42 billion worth of SoftBank’s assets to pay down the company’s gigantic debt and bankroll an aggressive campaign of share buybacks aimed at shoring up his company’s flagging share prices.\n",
        "    To achieve that goal, he has tapped his most valuable assets, selling down his holdings in his most successful investment, the Chinese e-commerce company Alibaba, as well as in T-Mobile and SoftBank’s mobile phone service provider in Japan.\n",
        "    So far, the tactic seems to be paying off. SoftBank’s share price has doubled from its low in March, reaching its highest levels in 20 years. The rise has been driven in part by similar comeback stories for SoftBank’s investments.\n",
        "    After a pandemic-induced market crash in the spring, investors have piled back into tech stocks, driving a rally in some of SoftBank’s flagship investments, including the workplace communications tool Slack, the medical technology company Guardant Health, and even Uber, which has managed to offset losses in its ride-sharing services with increased food delivery.\n",
        "    Perhaps most important, Alibaba has continued to deliver for Mr. Son, as the pandemic has sent its shares to record highs.\n",
        "    SoftBank has also benefited from a hotter-than-expected market for I.P.O.s after disappointing performances by two of its biggest investments last year — Uber and WeWork — temporarily cooled market sentiment toward debuts by tech companies.\n",
        "    But appetite for the offerings has come roaring back. Last month, SoftBank scored hits with the listings of the insurance start-up Lemonade as well as Relay Therapeutics, which develops cancer drugs. That raised investors’ hopes about the I.P.O. prospects for other companies in SoftBank’s portfolio, and Mr. Son said on Tuesday that five or six were making preparations to do so.\n",
        "    As of June, the Vision Fund had returned to overall profitability, the company said in its announcement. But SoftBank’s sudden turnaround did not come without an asterisk.\n",
        "    The company used Tuesday’s announcement to introduce a change in the way it reports its results, saying it would no longer announce operating profit, as was its custom, because the measure was “not useful.”\n",
        "    Asked if the decision had made SoftBank less transparent and more difficult to value — a concern expressed by analysts who have questioned whether the company’s accounting of its interests in privately held companies is too optimistic — Mr. Son said that reporting operating income did not make sense for a firm that made its money by investing in other companies.\n",
        "    Mr. Son affirmed his belief that, in assessing his company, investors should look at “shareholder value” — a metric he defines as the value of the company’s holdings minus its net debt. By that measure, he said, the company’s value had increased by $31 billion since the end of the previous quarter, in March.\n",
        "    “This is the only and most important indicator to us,” he said.\n",
        "    As the second wave of the pandemic hits, he said, there is no “guarantee the performance of the Vision Fund will remain positive.” Nevertheless, the company has already used its own money to make 10 investments in Vision Fund II, Mr. Son said, adding that more investments were “in the pipeline.”\n",
        "    “It may not be a big amount of money, but we would like to add very good companies to our portfolio,” he said, hinting that a Vision Fund III was already in the works.\n",
        "    “Some investors and the media are fed up with the idea of investing in unicorns,” Mr. Son said, referring to privately held companies with a valuation of at least $1 billion. But he said he saw the pandemic as an investment opportunity that might accelerate the transition to the kinds of A.I.-fueled companies he hopes to build his future investment portfolios around.\n",
        "    While the company may be on the defensive at the moment, its basic policy has not changed, he said. It is still “unicorn hunting.”\n",
        "    \"\"\"\n",
        "\n",
        "\n",
        "huff_entertainment = \"\"\"\n",
        "    Stephen Colbert is back at work and he’s picked up right where he left off: trolling President Donald Trump.  \n",
        "    The “Late Show” host mocked Trump on Monday for signing a series of executive actions over the weekend, including one intended to extend unemployment benefits.  \n",
        "    “I can understand why he’s in favor of providing that,” Colbert said. “Because come January, everyone in his family might need it.”\n",
        "    Another executive order is intended to extend a moratorium on evictions. \n",
        "    “Of course he wants that: Come January, everyone in his family might need it,” Colbert cracked, then launched into a dance for making the same joke twice: \n",
        "    Colbert also discussed a moment when the president seemed to forget the word “virus” in the middle of a sentence. Watch his full monologue below:  \n",
        "    Colbert just returned from a two-week vacation and he is no longer working from home. However, the “Late Show” isn’t back in its studio in the Ed Sullivan Theater in New York just yet; it’s recorded in an attached office building and there’s still no audience.\n",
        "    Colbert and a number of other late shows, including Jimmy Fallon’s “Tonight Show” and James Corden’s “Late Late Show,” have left their homes recently for something a little bit closer to their normal broadcasts. All of them departed from their studios in March as the pandemic spread across the United States.\n",
        "    \"\"\"\n",
        "\n",
        "\n",
        "indep_politics = \"\"\"\n",
        "    Puerto Rico will partially redo Sunday’s key gubernatorial primary election on 16 August after ballots did not arrive at some polling centres, leaving many who ventured out amid the pandemic unable to cast their vote.\n",
        "    Governor Wanda Vazquez, 60, who is facing a challenge from within her New Progressive Party, or PNP, said no results would be released until everyone gets an opportunity to vote.\n",
        "    Vazquez is facing her first election for governor after replacing Ricardo Rossello, who was ousted amid massive street protests last August. But when voters arrived at polling stations early on Sunday, many found that there were no ballots.\n",
        "    Asked whether she took any responsibility for the fiasco, Vazquez told reporters that the Puerto Rico State Commission on Elections “is clearly responsible for this chaos” and had “lied” to her about being prepared for the vote.\n",
        "    Commission President Juan Davila blamed the problems on delays at the printing press and told WKAQ radio that he had no plans to resign.\n",
        "    Thousands of Puerto Ricans without housing three years after Maria\n",
        "    As of late Sunday, it was unclear how many precincts will be allowed to hold a new vote on Sunday.\n",
        "    The episode is the latest challenge for the US commonwealth of 3.2 million people that has been trying to overcome an array of natural disasters, a historic bankruptcy and last summer’s political turmoil. Vazquez, a former justice secretary who originally said she did not want the job, was installed as governor by the commonwealth’s Supreme Court in a chaotic succession process a year ago.\n",
        "    Sunday’s troubles also derailed the gubernatorial primary for the the main opposition party, the Popular Democratic Party, or PPD. That race pits San Juan Mayor Carmen Yulin Cruz against local legislator Eduardo Bhatia and Isabela Mayor Carlos Delgado Altieri.\n",
        "    Cruz, who famously clashed with President Donald Trump after Hurricane Maria, called the situation a “national embarrassment” and suggested that Vazquez and the PNP had botched the process as they try to cling to power.\n",
        "    Pedro Pierluisi – Vazquez’s rival for the PNP nomination and the island’s former delegate to the US House – also blamed her for Sunday’s failed vote. At a news conference on Sunday, he demanded that partial results be released in the name of transparency and said it should be up to the courts to decide how and when a new election is scheduled.\n",
        "    “Under my government, this would never have happened,” he said.\n",
        "    New election map predicts resounding victory for Biden against Trump\n",
        "    The delay is likely to keep the island on edge this week. Vazquez warned election officials against publishing results, but social media was abuzz with an assortment of purported tallies. Meanwhile, all the candidates are being forced to extend their campaigns for an additional week.\n",
        "    As the finger-pointing gained steam late on Sunday, some blamed the federally appointed oversight board that controls the island’s finances for contributing to the chaos. In a statement, the board said the electoral commission has a $43 million annual budget and 656 full-time employees.\n",
        "    “The State Elections Commission has sufficient money, and it has the more than enough staff to perform the one task it is charged with,” the board said. “Elections are the very foundation of democracy, and what the people of Puerto Rico experienced today is unacceptable.”\n",
        "    The flawed vote also caught Washington’s attention.\n",
        "    “The election problems happening today in Puerto Rico are outrageous and unprecedented,” Rep Nydia Velazquez, (D-NY), who was born in Puerto Rico, wrote on Twitter. “I am monitoring this situation closely. Everyone’s right to vote must be protected.”\n",
        "    \"\"\"\n",
        "\n",
        "\n",
        "guardian_sport = \"\"\"\n",
        "    While celebrating seven decades of racing’s past, perhaps it was apt that a talent who guarantees Formula One a bright future lit up the 70th Anniversary Grand Prix. Max Verstappen’s win at Silverstone was distinctive not only for his combative but measured driving and striking race management from his Red Bull team, but the way the 22-year-old just seized his chance. Here was a verve, an enthusiasm, a sheer delight in competition that was irresistible.\n",
        "    Verstappen’s victory, beating the Mercedes of Lewis Hamilton into second and his teammate Valtteri Bottas into third, was just the fillip the season required, ending four consecutive wins for a Mercedes team who were beginning to look invulnerable.\n",
        "    The Red Bull team principal, Christian Horner, was not overstating the case when he described it as “an amazing performance”. For Verstappen to have finally been in the fight meant everything, as the driver confirmed through a beaming grin. “It is a great result to win here,” he said. “I am incredibly happy. We have not had an opportunity to push them so far this season.”\n",
        "    There was perhaps an object lesson echoing through history at Silverstone on Sunday. The race, coming after last week’s British Grand Prix, was designated to mark 70 years since Silverstone hosted the first round of the world championship.\n",
        "    The race programme that year had advice for newcomers to the sport. “Grand prix drivers do not have to undergo strict physical training,” it read. “Moderation in eating, drinking and smoking is sufficient, for motor racing is a test of brain rather than brawn.”\n",
        "    The latter instruction proved prescient. This season Mercedes have muscled their way to the front and proved quickest on three different circuits, their car enjoying great pace allied to great downforce. Last weekend they were untouchable here until tyre failures caused late drama.\n",
        "    They had looked similarly strong this weekend but on race day, with softer tyre compounds in use this time, the very strength of the car appeared to plague it. It was so quick through the fast corners of Silverstone but the great downforce, high temperatures and softer rubber worked their tyres terrifically hard and the blistering it caused was costly.\n",
        "    There is no shortage of brain at Mercedes – they have shown that repeatedly with six consecutive drivers’ and constructors’ championships – but this time their much-flexed muscles proved a weakness.\n",
        "    Max Verstappen makes up ground on Lewis Hamilton.\n",
        "    Nor, crucially, did they have any luxury of a lead and cushion over Red Bull on which to fall back. Instead Red Bull and Verstappen had brought the fight to them, right from qualifying onwards. Red Bull’s bold decision to use the hard tyres there, which meant Verstappen started from fourth on the grid and pursued a different strategic direction, paid off. They must be applauded for their willingness to take a chance.\n",
        "    Having done so and moved up to third, behind Bottas and Hamilton, off the start with his rubber proving immediately effective, he hared after the leaders. It became immediately obvious the Red Bull driver meant business.\n",
        "    His intent was clear and it was glorious to behold. So quick was Verstappen that he was advised to ease back to preserve his tyres. The Dutchman, having got within DRS range of Hamilton, was having none of it. “This is the only chance to get close to Mercedes, I am not sitting behind like a grandma,” he replied boisterously.\n",
        "    Red Bull had called the race to perfection. They held Verstappen out a long time, until he had built a 20-second lead after both Mercedes drivers had pitted, and when he came in he emerged right behind Bottas. Once more his bravura commitment was a joy. He immediately attacked on fresher rubber and went – of all places – round the outside of Luffield to retake the lead. The driver had the bit between his teeth and was revelling in his first chance this season to compete with Mercedes.\n",
        "    A second stop was required as Red Bull committed to holding their lead. This time told to push by his team, Verstappen responded joyously: “So we are just going to fully send it” and he promptly did so, hurling his car around with abandon. Several laps later he and Bottas pitted at the same time and they were in a straight fight to the finish. It was one that the Mercedes, tyres blistering at an alarming rate, could simply not win. Indeed after Hamilton had tried in vain to hang on for a one-stop, he pitted and emerged having to chase down Charles Leclerc and then his teammate to clinch second two laps from the end.\n",
        "    For Mercedes a crucial debrief lies ahead. The team principal, Toto Wolff, admitted their high downforce and pace came at the cost of working the tyres mercilessly, especially the softer compounds in hot conditions – and next week Barcelona in August beckons.\n",
        "    The world champion was disappointed but F1 has reason to celebrate. Verstappen now has nine career wins but this is his first at Silverstone and his first this season. That it came very much against the odds on a circuit where Mercedes have been completely dominant will have made the success all the sweeter.\n",
        "    After five rounds of a season likely to run to 15 races, Hamilton leads the championship with 107 points, in front of Verstappen on 77 points, with Bottas on 73 in third.\n",
        "    Leclerc was fourth for Ferrari, with Alex Albon in fifth for Red Bull. Lance Stroll and Nico Hülkenberg were in sixth and seventh for Racing Point. Esteban Ocon was eighth for Renault, with Lando Norris in ninth for McLaren and Daniil Kvyat in 10th for AlphaTauri.\n",
        "    \"\"\"\n",
        "\n",
        "wapo_tech = \"\"\"\n",
        "    Twitch Prime, a premium membership on the Amazon-owned streaming platform Twitch, is being re-branded as Prime Gaming in an effort to broaden its appeal. Available in over 200 countries and territories, Prime Gaming comes included with an Amazon Prime membership and/or a Prime Video subscription.\n",
        "    Prime Gaming users receive monthly free games and in-game loot (for popular games like “Grand Theft Auto Online,” “Apex Legends,” “Red Dead Redemption 2,” and more) as members. This is similar to how the service was with Twitch Prime. Twitch-specific benefits remain the same too, including the premium chat badge and extra emoticons. Going forward, however, Amazon is dropping Twitch from the program’s name. (Amazon founder and chief executive Jeff Bezos owns The Washington Post.)\n",
        "    “It has nothing negative to do about Twitch,” said Larry Plotnick, director of Prime Gaming. “We love Twitch. We’re still very deeply partnered with them. But the goal here is really to reach as broad of an audience as possible, reach as many gamers as possible.”\n",
        "    Amazon’s first game has a lot to prove. ‘Crucible’ gets a lot right.\n",
        "    Twitch Prime originally launched in 2016, and Plotnick said it had a focus on “predominantly core gamers.” The name change is part of an overall platform-agnostic vision of including different gamers who play on different devices. Quietly, over the last few years, that’s already begun with the inclusion of more mobile games (like in-game content for Yahtzee With Buddies) and other titles across various platforms.\n",
        "    Prime Gaming will soon add more family-friendly titles to its roster, too, including in-game content for “Roblox.” Users will get to keep these PC games permanently, even if they cancel their subscription.\n",
        "    “Today, we have over 50 pieces of content available to customers, 30 pieces of content for in-game and another 20 free games that people can go can download and keep forever,\" Plotnick said. \"And so those are the big changes.”\n",
        "    \"\"\"\n"
      ],
      "execution_count": 31,
      "outputs": []
    },
    {
      "cell_type": "markdown",
      "metadata": {
        "id": "Cq30KTXqR00B",
        "colab_type": "text"
      },
      "source": [
        "#calls to classify() on each full article above"
      ]
    },
    {
      "cell_type": "code",
      "metadata": {
        "id": "rvWfBokrR5Tx",
        "colab_type": "code",
        "colab": {}
      },
      "source": [
        "predict_bbc_business = classify(bbc_business)\n",
        "predict_bbc_entertainment = classify(bbc_entertainment)\n",
        "predict_bbc_politics = classify(bbc_politics)\n",
        "predict_bbc_sport = classify(bbc_sport)\n",
        "predict_bbc_tech = classify(bbc_tech)\n",
        "\n",
        "predict_other_business = classify(nyt_business)\n",
        "predict_other_entertainment = classify(huff_entertainment)\n",
        "predict_other_politics = classify(indep_politics)\n",
        "predict_other_sport = classify(guardian_sport)\n",
        "predict_other_tech = classify(wapo_tech)\n"
      ],
      "execution_count": null,
      "outputs": []
    },
    {
      "cell_type": "markdown",
      "metadata": {
        "id": "mGeRl14nmU3u",
        "colab_type": "text"
      },
      "source": [
        "demonstration of the \"by_sentence\" value that classify's return object contains"
      ]
    },
    {
      "cell_type": "code",
      "metadata": {
        "id": "iuH-2gh8cdQx",
        "colab_type": "code",
        "colab": {}
      },
      "source": [
        "print(predict_other_entertainment[\"by_sentence\"])"
      ],
      "execution_count": null,
      "outputs": []
    },
    {
      "cell_type": "markdown",
      "metadata": {
        "id": "XDrs9vD4Tl2F",
        "colab_type": "text"
      },
      "source": [
        "#print results of this test"
      ]
    },
    {
      "cell_type": "code",
      "metadata": {
        "id": "9oJsezRUTmOH",
        "colab_type": "code",
        "colab": {}
      },
      "source": [
        "print(\"BBC\")\n",
        "print()\n",
        "\n",
        "print(\"true: \",\"business\")\n",
        "print(\"predicted: \",predict_bbc_business[\"final_prediction\"])\n",
        "print()\n",
        "\n",
        "print(\"true: \",\"entertainment\")\n",
        "print(\"predicted: \",predict_bbc_entertainment[\"final_prediction\"])\n",
        "print()\n",
        "\n",
        "print(\"true: \",\"politics\")\n",
        "print(\"predicted: \",predict_bbc_politics[\"final_prediction\"])\n",
        "print()\n",
        "\n",
        "print(\"true: \",\"sport\")\n",
        "print(\"predicted: \",predict_bbc_sport[\"final_prediction\"])\n",
        "print()\n",
        "\n",
        "print(\"true: \",\"tech\")\n",
        "print(\"predicted: \",predict_bbc_tech[\"final_prediction\"])\n",
        "print()\n",
        "\n",
        "\n",
        "print(\"other\")\n",
        "print()\n",
        "\n",
        "print(\"true: \",\"business\")\n",
        "print(\"predicted: \",predict_other_business[\"final_prediction\"])\n",
        "print()\n",
        "\n",
        "print(\"true: \",\"entertainment\")\n",
        "print(\"predicted: \",predict_other_entertainment[\"final_prediction\"])\n",
        "print()\n",
        "\n",
        "print(\"true: \",\"politics\")\n",
        "print(\"predicted: \",predict_other_politics[\"final_prediction\"])\n",
        "print()\n",
        "\n",
        "print(\"true: \",\"sport\")\n",
        "print(\"predicted: \",predict_other_sport[\"final_prediction\"])\n",
        "print()\n",
        "\n",
        "print(\"true: \",\"tech\")\n",
        "print(\"predicted: \",predict_other_tech[\"final_prediction\"])"
      ],
      "execution_count": null,
      "outputs": []
    }
  ]
}